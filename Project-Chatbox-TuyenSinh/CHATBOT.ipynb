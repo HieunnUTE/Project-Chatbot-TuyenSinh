{
  "nbformat": 4,
  "nbformat_minor": 0,
  "metadata": {
    "colab": {
      "name": "CHATBOT.ipynb",
      "provenance": [],
      "collapsed_sections": []
    },
    "kernelspec": {
      "name": "python3",
      "display_name": "Python 3"
    },
    "language_info": {
      "name": "python"
    },
    "accelerator": "GPU"
  },
  "cells": [
    {
      "cell_type": "code",
      "execution_count": null,
      "metadata": {
        "id": "v4nO5m545xuy",
        "colab": {
          "base_uri": "https://localhost:8080/"
        },
        "outputId": "79b86b2f-0d4b-4d1a-d5fa-82c83800a26a"
      },
      "outputs": [
        {
          "output_type": "stream",
          "name": "stderr",
          "text": [
            "[nltk_data] Downloading package omw-1.4 to /root/nltk_data...\n"
          ]
        }
      ],
      "source": [
        "import numpy as np\n",
        "import nltk\n",
        "nltk.download('omw-1.4')\n",
        "import string\n",
        "import random"
      ]
    },
    {
      "cell_type": "code",
      "source": [
        "f=open('chatbot.txt','r',errors = 'ignore')\n",
        "raw_doc=f.read()\n",
        "raw_doc=raw_doc.lower() #Converts text to lowercase\n",
        "nltk.download('punkt') #Using the Punkt tokenizer\n",
        "nltk.download('wordnet') #Using the WordNet dictionary\n",
        "sent_tokens = nltk.sent_tokenize(raw_doc) #Converts doc to list of sentences \n",
        "word_tokens = nltk.word_tokenize(raw_doc) #Converts doc to list of words"
      ],
      "metadata": {
        "colab": {
          "base_uri": "https://localhost:8080/"
        },
        "id": "lCMdPqtD55yK",
        "outputId": "b6fa208d-e8e7-4db5-c925-75d093bef15b"
      },
      "execution_count": null,
      "outputs": [
        {
          "output_type": "stream",
          "name": "stderr",
          "text": [
            "[nltk_data] Downloading package punkt to /root/nltk_data...\n",
            "[nltk_data]   Unzipping tokenizers/punkt.zip.\n",
            "[nltk_data] Downloading package wordnet to /root/nltk_data...\n"
          ]
        }
      ]
    },
    {
      "cell_type": "code",
      "source": [
        "sent_tokens[:2]"
      ],
      "metadata": {
        "colab": {
          "base_uri": "https://localhost:8080/"
        },
        "id": "dkWARFJK6hRn",
        "outputId": "0c773e89-26c8-401b-b1da-f40ae566fbf3"
      },
      "execution_count": null,
      "outputs": [
        {
          "output_type": "execute_result",
          "data": {
            "text/plain": [
              "['điểm thi ngành cơ điện tử: khối a 25đ, khối a1 24đ, khối d 23đ.',\n",
              " 'điểm thi ngành ô tô: khối a 27đ, khối a1 26đ, khối d 25đ.']"
            ]
          },
          "metadata": {},
          "execution_count": 3
        }
      ]
    },
    {
      "cell_type": "code",
      "source": [
        "word_tokens[:2]"
      ],
      "metadata": {
        "colab": {
          "base_uri": "https://localhost:8080/"
        },
        "id": "B4o9MP_L6lSK",
        "outputId": "2bb7c45c-057e-4c08-ba67-5999380c05eb"
      },
      "execution_count": null,
      "outputs": [
        {
          "output_type": "execute_result",
          "data": {
            "text/plain": [
              "['điểm', 'thi']"
            ]
          },
          "metadata": {},
          "execution_count": 4
        }
      ]
    },
    {
      "cell_type": "code",
      "source": [
        "lemmer = nltk.stem.WordNetLemmatizer()\n",
        "#WordNet is a semantically-oriented dictionary of English included in NLTK.\n",
        "def LemTokens(tokens):\n",
        "    return [lemmer.lemmatize(token) for token in tokens]\n",
        "remove_punct_dict = dict((ord(punct), None) for punct in string.punctuation)\n",
        "def LemNormalize(text):\n",
        "    return LemTokens(nltk.word_tokenize(text.lower().translate(remove_punct_dict)))"
      ],
      "metadata": {
        "id": "qY92qycc6pgj"
      },
      "execution_count": null,
      "outputs": []
    },
    {
      "cell_type": "code",
      "source": [
        "GREET_INPUTS = (\"hello\", \"hi\", \"greetings\", \"sup\", \"what's up\",\"hey\")\n",
        "GREET_RESPONSES = [\"hi\", \"hey\", \"*nods*\", \"hi there\", \"hello\", \"I am glad! You are talking to me\"]\n",
        "def greet(sentence):\n",
        " \n",
        "    for word in sentence.split():\n",
        "        if word.lower() in GREET_INPUTS:\n",
        "            return random.choice(GREET_RESPONSES)"
      ],
      "metadata": {
        "id": "hVo0BJI36u7O"
      },
      "execution_count": null,
      "outputs": []
    },
    {
      "cell_type": "code",
      "source": [
        "from sklearn.feature_extraction.text import TfidfVectorizer\n",
        "from sklearn.metrics.pairwise import cosine_similarity"
      ],
      "metadata": {
        "id": "BGb06oYW6yGo"
      },
      "execution_count": null,
      "outputs": []
    },
    {
      "cell_type": "code",
      "source": [
        "def response(user_response):\n",
        "  robo1_response=''\n",
        "  TfidfVec = TfidfVectorizer(tokenizer=LemNormalize, stop_words='english')\n",
        "  tfidf = TfidfVec.fit_transform(sent_tokens)\n",
        "  vals = cosine_similarity(tfidf[-1], tfidf)\n",
        "  idx=vals.argsort()[0][-2]\n",
        "  flat = vals.flatten()\n",
        "  flat.sort()\n",
        "  req_tfidf = flat[-2]\n",
        "  if(req_tfidf==0):\n",
        "    robo1_response=robo1_response+\"I am sorry! I don't understand you\"\n",
        "    return robo1_response\n",
        "  else:\n",
        "    robo1_response = robo1_response+sent_tokens[idx]\n",
        "    return robo1_response"
      ],
      "metadata": {
        "id": "M9Z_ybHj61Gh"
      },
      "execution_count": null,
      "outputs": []
    },
    {
      "cell_type": "code",
      "source": [
        "flag=True\n",
        "print(\"BOT: Chào mừng bạn đã đến với kênh tư vấn tuyển sinh của trường đại học Sư phạm kỹ thuật TPHCM ! Tôi có thể giúp gì cho bạn nào ! Nếu bạn muốn kết thúc câu hỏi thì hãy đánh ký tự bye\")\n",
        "while(flag==True):\n",
        "    user_response = input()\n",
        "    user_response=user_response.lower()\n",
        "    if(user_response!='bye'):\n",
        "        if(user_response=='thanks' or user_response=='thank you' ):\n",
        "            flag=False\n",
        "            print(\"BOT: You are welcome..\")\n",
        "        else:\n",
        "            if(greet(user_response)!=None):\n",
        "                print(\"BOT: \"+greet(user_response))\n",
        "            else:\n",
        "                sent_tokens.append(user_response)\n",
        "                word_tokens=word_tokens+nltk.word_tokenize(user_response)\n",
        "                final_words=list(set(word_tokens))\n",
        "                print(\"BOT: \",end=\"\")\n",
        "                print(response(user_response))\n",
        "                sent_tokens.remove(user_response)\n",
        "    else:\n",
        "        flag=False\n",
        "        print(\"BOT: Goodbye! Take care <3 \")"
      ],
      "metadata": {
        "colab": {
          "base_uri": "https://localhost:8080/"
        },
        "id": "lSy-h29063qk",
        "outputId": "bb78a535-4418-4ab8-d56a-19770715edbe"
      },
      "execution_count": null,
      "outputs": [
        {
          "output_type": "stream",
          "name": "stdout",
          "text": [
            "BOT: Chào mừng bạn đã đến với kênh tư vấn tuyển sinh của trường đại học Sư phạm kỹ thuật TPHCM ! Tôi có thể giúp gì cho bạn nào ! Nếu bạn muốn kết thúc câu hỏi thì hãy đánh ký tự bye\n",
            "Hello\n",
            "BOT: hey\n",
            "điểm ngành cơ điện tử\n",
            "BOT: "
          ]
        },
        {
          "output_type": "stream",
          "name": "stderr",
          "text": [
            "/usr/local/lib/python3.7/dist-packages/sklearn/feature_extraction/text.py:401: UserWarning: Your stop_words may be inconsistent with your preprocessing. Tokenizing the stop words generated tokens ['ha', 'le', 'u', 'wa'] not in stop_words.\n",
            "  % sorted(inconsistent)\n"
          ]
        },
        {
          "output_type": "stream",
          "name": "stdout",
          "text": [
            "điểm thi ngành cơ điện tử: khối a 25đ, khối a1 24đ, khối d 23đ.\n",
            "PHƯƠNG thức tuyển sinh\n",
            "BOT: phương thức tuyển sinh:\n",
            "phương thức 1: xét tuyển học bạ thpt, xét tuyển dựa vào điểm trung bình học bạ 5 học kỳ (trừ học kỳ 2 lớp 12) của từng môn theo tổ hợp từ 7.0 trở lên (có 3 môn) vào học hệ chất lượng cao hoặc đại trà\n",
            "phương thức 2: xét tuyển thí sinh theo kết quả điểm thi tốt nghiệp thpt năm 2022 theo các tổ hợp môn xét tuyển từng ngành học, thời gian nhận hồ sơ và công bố kết quả theo quy định của bộ gd-đt\n",
            "phương thức 3: xét tuyển thí sinh theo kết quả kỳ thi đánh giá năng lực của đh quốc gia tp.hcm, điều kiện xét tuyển: điểm bài thi đánh giá năng lực đh quốc gia tp.hcm năm 2022 từ 700 điểm trở lên\n",
            "phương thức 4: xét tuyển thẳng, ưu tiên xét tuyển thẳng, xét tuyển thẳng theo quy định của bộ gd-đt, ưu tiên xét tuyển thẳng theo quy định của trường (thí sinh giải 1, 2, 3 cấp tỉnh, giải khuyến khích học sinh giỏi cấp quốc gia hoặc giải 4 cuộc thi khoa học kỹ thuật cấp quốc gia; học sinh giỏi trường chuyên - tốp 200; xét điểm ielts quốc tế; điểm sat quốc tế; trường thpt liên kết do hiệu trưởng giới thiệu).\n",
            "phương thức\n",
            "BOT: phương thức tuyển sinh:\n",
            "phương thức 1: xét tuyển học bạ thpt, xét tuyển dựa vào điểm trung bình học bạ 5 học kỳ (trừ học kỳ 2 lớp 12) của từng môn theo tổ hợp từ 7.0 trở lên (có 3 môn) vào học hệ chất lượng cao hoặc đại trà\n",
            "phương thức 2: xét tuyển thí sinh theo kết quả điểm thi tốt nghiệp thpt năm 2022 theo các tổ hợp môn xét tuyển từng ngành học, thời gian nhận hồ sơ và công bố kết quả theo quy định của bộ gd-đt\n",
            "phương thức 3: xét tuyển thí sinh theo kết quả kỳ thi đánh giá năng lực của đh quốc gia tp.hcm, điều kiện xét tuyển: điểm bài thi đánh giá năng lực đh quốc gia tp.hcm năm 2022 từ 700 điểm trở lên\n",
            "phương thức 4: xét tuyển thẳng, ưu tiên xét tuyển thẳng, xét tuyển thẳng theo quy định của bộ gd-đt, ưu tiên xét tuyển thẳng theo quy định của trường (thí sinh giải 1, 2, 3 cấp tỉnh, giải khuyến khích học sinh giỏi cấp quốc gia hoặc giải 4 cuộc thi khoa học kỹ thuật cấp quốc gia; học sinh giỏi trường chuyên - tốp 200; xét điểm ielts quốc tế; điểm sat quốc tế; trường thpt liên kết do hiệu trưởng giới thiệu).\n",
            "bye\n",
            "BOT: Goodbye! Take care <3 \n"
          ]
        }
      ]
    },
    {
      "cell_type": "code",
      "source": [
        "\n"
      ],
      "metadata": {
        "id": "R0cWLmQm6_Xk"
      },
      "execution_count": null,
      "outputs": []
    }
  ]
}